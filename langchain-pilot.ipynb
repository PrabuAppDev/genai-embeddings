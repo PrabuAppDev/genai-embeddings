{
 "cells": [
  {
   "cell_type": "code",
   "execution_count": 4,
   "id": "3fc9bb65",
   "metadata": {},
   "outputs": [],
   "source": [
    "# imports\n",
    "import os\n",
    "import openai  # for calling the OpenAI API"
   ]
  },
  {
   "cell_type": "code",
   "execution_count": 8,
   "id": "b2e5a9b3",
   "metadata": {},
   "outputs": [],
   "source": [
    "openai_api_key = os.getenv(\"OPENAI_API_TOKEN\")"
   ]
  },
  {
   "cell_type": "code",
   "execution_count": 6,
   "id": "57ecb488",
   "metadata": {},
   "outputs": [
    {
     "data": {
      "text/html": [
       "<style>.container { width:90% !important; }</style>"
      ],
      "text/plain": [
       "<IPython.core.display.HTML object>"
      ]
     },
     "metadata": {},
     "output_type": "display_data"
    }
   ],
   "source": [
    "# Run this cell if you want to make your display wider\n",
    "from IPython.display import display, HTML\n",
    "display(HTML(\"<style>.container { width:90% !important; }</style>\"))"
   ]
  },
  {
   "cell_type": "code",
   "execution_count": 9,
   "id": "5b927322",
   "metadata": {},
   "outputs": [],
   "source": [
    "from langchain.llms import OpenAI\n",
    "from langchain import PromptTemplate\n",
    "\n",
    "# Note, the default model is already 'text-davinci-003' but I call it out here explicitly so you know where to change it later if you want\n",
    "llm = OpenAI(temperature=0, model_name = 'text-davinci-003', openai_api_key=openai_api_key)\n",
    "\n",
    "# Create our template\n",
    "template = \"\"\"\n",
    "%INSTRUCTIONS:\n",
    "Please summarize the following piece of text.\n",
    "Respond in a manner that a 5 year old would understand.\n",
    "\n",
    "%TEXT:\n",
    "{text}\n",
    "\"\"\"\n",
    "\n",
    "# Create a LangChain prompt template that we can insert values to later\n",
    "prompt = PromptTemplate(\n",
    "    input_variables=[\"text\"],\n",
    "    template=template,\n",
    ")"
   ]
  },
  {
   "cell_type": "code",
   "execution_count": 10,
   "id": "ca977c13",
   "metadata": {},
   "outputs": [],
   "source": [
    "confusing_text = \"\"\"\n",
    "Richard Phillips Feynman (May 11, 1918 – February 15, 1988) was an American physicist.\n",
    "Feynman said \"What I cannot create, I do not understand.\"\"\n",
    "Know how to solve every problem that has been solved.\n",
    "on his blackboard at the time of death in February 1988.\n",
    "\"\"\""
   ]
  },
  {
   "cell_type": "code",
   "execution_count": 11,
   "id": "7202ce3f",
   "metadata": {},
   "outputs": [
    {
     "name": "stdout",
     "output_type": "stream",
     "text": [
      "------- Prompt Begin -------\n",
      "\n",
      "%INSTRUCTIONS:\n",
      "Please summarize the following piece of text.\n",
      "Respond in a manner that a 5 year old would understand.\n",
      "\n",
      "%TEXT:\n",
      "\n",
      "Richard Phillips Feynman (May 11, 1918 – February 15, 1988) was an American physicist.\n",
      "Feynman said \"What I cannot create, I do not understand.\"\"\n",
      "Know how to solve every problem that has been solved.\n",
      "on his blackboard at the time of death in February 1988.\n",
      "\n",
      "\n",
      "------- Prompt End -------\n"
     ]
    }
   ],
   "source": [
    "print (\"------- Prompt Begin -------\")\n",
    "\n",
    "final_prompt = prompt.format(text=confusing_text)\n",
    "print(final_prompt)\n",
    "\n",
    "print (\"------- Prompt End -------\")"
   ]
  },
  {
   "cell_type": "code",
   "execution_count": 12,
   "id": "10a24208",
   "metadata": {},
   "outputs": [
    {
     "name": "stdout",
     "output_type": "stream",
     "text": [
      "\n",
      "Richard Phillips Feynman was a very smart man. He said that if he couldn't make something, he didn't understand it. He wanted to be able to solve any problem that had already been solved. He wrote this on a blackboard before he died.\n"
     ]
    }
   ],
   "source": [
    "output = llm(final_prompt)\n",
    "print (output)"
   ]
  },
  {
   "cell_type": "code",
   "execution_count": 18,
   "id": "1b2581e3",
   "metadata": {},
   "outputs": [
    {
     "name": "stdout",
     "output_type": "stream",
     "text": [
      "------- Prompt Begin -------\n",
      "\n",
      "%INSTRUCTIONS:\n",
      "Please summarize the following piece of text.\n",
      "Respond in a manner that a 5 year old would understand.\n",
      "\n",
      "%TEXT:\n",
      "Respond in a manner that a person who has not seen the original Top Gun movie would understand.\n",
      "\n",
      "------- Prompt End -------\n",
      "\n",
      "Top Gun is a movie about a brave pilot named Maverick who goes to a special school to learn how to be the best fighter pilot. He meets a lot of new friends and has exciting adventures. He also falls in love with a beautiful teacher. In the end, Maverick becomes a hero and saves the day. \n",
      "\n",
      "Top Gun is a movie about a brave pilot named Maverick who goes to a special school to learn how to fly planes. He meets new friends and has exciting adventures. He also falls in love with a teacher. In the end, Maverick is a hero and saves everyone.\n"
     ]
    }
   ],
   "source": [
    "template_topgun_maverick = \"\"\"\n",
    "%INSTRUCTIONS:\n",
    "How successful was the movie Top Gun: Maverick in theatres?\n",
    "%TEXT:\n",
    "{text}\n",
    "\"\"\"\n",
    "\n",
    "# Create a LangChain prompt template that we can insert values to later\n",
    "prompt = PromptTemplate(\n",
    "    input_variables=[\"text\"],\n",
    "    template=template,\n",
    ")\n",
    "print (\"------- Prompt Begin -------\")\n",
    "final_prompt = prompt.format(text=\"Respond in a manner that a person who has not seen the original Top Gun movie would understand.\")\n",
    "print(final_prompt)\n",
    "print (\"------- Prompt End -------\")\n",
    "output = llm(final_prompt)\n",
    "print (output)"
   ]
  },
  {
   "cell_type": "code",
   "execution_count": 19,
   "id": "e87358b7",
   "metadata": {},
   "outputs": [
    {
     "name": "stdout",
     "output_type": "stream",
     "text": [
      "\n",
      "\n",
      "Top Gun: Maverick was a box office success, grossing over $350 million worldwide. It was the highest-grossing film of 2020 in the United States and Canada, and the second-highest-grossing film of 2020 worldwide.\n"
     ]
    }
   ],
   "source": [
    "from langchain.llms import OpenAI\n",
    "\n",
    "llm = OpenAI(temperature=0, openai_api_key=openai_api_key)\n",
    "context = \"\"\"\n",
    "Top Gun: Maverick movie\n",
    "\"\"\"\n",
    "\n",
    "question = \"How successful was this movie in theatres?\"\n",
    "output = llm(context + question)\n",
    "\n",
    "print (output)"
   ]
  },
  {
   "cell_type": "code",
   "execution_count": 21,
   "id": "62c5b06a",
   "metadata": {},
   "outputs": [
    {
     "name": "stdout",
     "output_type": "stream",
     "text": [
      "\n",
      "\n",
      "I was trained in the summer of 2020. I know about the theatrical success of Top Gun: Maverick through reviews, interviews, and other media coverage. I also keep up with the latest news and trends in the entertainment industry.\n"
     ]
    }
   ],
   "source": [
    "from langchain.llms import OpenAI\n",
    "\n",
    "llm = OpenAI(temperature=0, openai_api_key=openai_api_key)\n",
    "context = \"\"\"\n",
    "GPT training\n",
    "\"\"\"\n",
    "\n",
    "question = \"When were you trained? How do you know about the theatrical success of Top Gun: Maverick if you were trained before the movie was released in the theatres?\"\n",
    "output = llm(context + question)\n",
    "\n",
    "print (output)"
   ]
  },
  {
   "cell_type": "code",
   "execution_count": 23,
   "id": "de02b1f3",
   "metadata": {},
   "outputs": [
    {
     "name": "stdout",
     "output_type": "stream",
     "text": [
      "\n",
      "\n",
      "Top Gun: Maverick is an upcoming American action drama film directed by Joseph Kosinski and written by Ehren Kruger, Eric Warren Singer, and Christopher McQuarrie. It is the sequel to the 1986 film Top Gun and stars Tom Cruise, Miles Teller, Jennifer Connelly, Jon Hamm, Glen Powell, Lewis Pullman, and Ed Harris. The story follows a now-middle-aged Maverick (Cruise) as he confronts the past and takes on a new generation of U.S. Navy fighter pilots.\n"
     ]
    }
   ],
   "source": [
    "from langchain.llms import OpenAI\n",
    "\n",
    "llm = OpenAI(temperature=0, openai_api_key=openai_api_key)\n",
    "context = \"\"\"\n",
    "Top Gun: Maverick movie\n",
    "\"\"\"\n",
    "\n",
    "question = \"What is the IMDB summary for this movie?\"\n",
    "output = llm(context + question)\n",
    "\n",
    "print (output)"
   ]
  },
  {
   "cell_type": "code",
   "execution_count": 31,
   "id": "fe1e60a8",
   "metadata": {},
   "outputs": [],
   "source": [
    "# !pip install unstructured\n",
    "from langchain import OpenAI\n",
    "\n",
    "# The vectorstore we'll be using\n",
    "from langchain.vectorstores import FAISS\n",
    "\n",
    "# The LangChain component we'll use to get the documents\n",
    "from langchain.chains import RetrievalQA\n",
    "\n",
    "# from langchain.document_loaders import UnstructuredURLLoader\n",
    "# urls = [\n",
    "#     \"https://www.imdb.com/title/tt1745960/\",\n",
    "#     \"fullcredits\"\n",
    "# ]  \n",
    "# loader = UnstructuredURLLoader(urls=urls)\n",
    "# data = loader.load()\n",
    "\n",
    "\n",
    "# # The embedding engine that will convert our text to vectors\n",
    "# from langchain.embeddings.openai import OpenAIEmbeddings\n",
    "\n",
    "# llm = OpenAI(temperature=0, openai_api_key=openai_api_key)\n",
    "\n",
    "# # Embed your documents and combine with the raw text in a pseudo db. Note: This will make an API call to OpenAI\n",
    "# docsearch = FAISS.from_documents(docs, embeddings)"
   ]
  }
 ],
 "metadata": {
  "kernelspec": {
   "display_name": "Python 3",
   "language": "python",
   "name": "python3"
  },
  "language_info": {
   "codemirror_mode": {
    "name": "ipython",
    "version": 3
   },
   "file_extension": ".py",
   "mimetype": "text/x-python",
   "name": "python",
   "nbconvert_exporter": "python",
   "pygments_lexer": "ipython3",
   "version": "3.9.12"
  }
 },
 "nbformat": 4,
 "nbformat_minor": 5
}
