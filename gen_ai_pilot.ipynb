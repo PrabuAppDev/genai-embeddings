{
 "cells": [
  {
   "cell_type": "code",
   "execution_count": 4,
   "id": "dd2579b4",
   "metadata": {},
   "outputs": [],
   "source": [
    "# imports\n",
    "import os\n",
    "import ast  # for converting embeddings saved as strings back to arrays\n",
    "import openai  # for calling the OpenAI API\n",
    "import pandas as pd  # for storing text and embeddings data\n",
    "# import tiktoken  # for counting tokens. Uncomment if needed\n",
    "from scipy import spatial  # for calculating vector similarities for search\n",
    "\n",
    "\n",
    "# models\n",
    "EMBEDDING_MODEL = \"text-embedding-ada-002\"\n",
    "GPT_MODEL = \"gpt-3.5-turbo\""
   ]
  },
  {
   "cell_type": "code",
   "execution_count": 13,
   "id": "60d9284b",
   "metadata": {},
   "outputs": [],
   "source": [
    "# for name, value in os.environ.items():\n",
    "#     print(\"{0}: {1}\".format(name, value))\n",
    "    \n",
    "openai.api_key = os.getenv(\"OPENAI_API_TOKEN\")"
   ]
  },
  {
   "cell_type": "code",
   "execution_count": 12,
   "id": "d36e4559",
   "metadata": {},
   "outputs": [
    {
     "name": "stdout",
     "output_type": "stream",
     "text": [
      "Top Gun Maverick is an upcoming American action drama film directed by Joseph Kosinski and produced by Jerry Bruckheimer and Tom Cruise. It is a sequel to the 1986 film Top Gun and stars Tom Cruise, Miles Teller, Jennifer Connelly, Jon Hamm, Glen Powell, Lewis Pullman, Ed Harris, and Val Kilmer.\n",
      "\n",
      "The film follows the story of Pete \"Maverick\" Mitchell, a Navy aviator who is now a flight instructor at the Top Gun school. Maverick is faced with a new generation of pilots who are more technologically advanced and less inclined to take risks. He must confront his own past and deal with the loss of his friend and former wingman, Goose.\n",
      "\n",
      "The film promises to have high-flying action sequences and will feature real fighter jets. It was originally scheduled to be released in June 2020 but was delayed due to the COVID-19 pandemic. The new release date is July 2, 2021.\n"
     ]
    }
   ],
   "source": [
    "query = 'Tell me more about Top Gun Maverick?'\n",
    "\n",
    "response = openai.ChatCompletion.create(\n",
    "    messages=[\n",
    "        {'role': 'system', 'content': 'Movie'},\n",
    "        {'role': 'user', 'content': query},\n",
    "    ],\n",
    "    model=GPT_MODEL,\n",
    "    temperature=0,\n",
    ")\n",
    "\n",
    "print(response['choices'][0]['message']['content'])"
   ]
  }
 ],
 "metadata": {
  "kernelspec": {
   "display_name": "Python 3",
   "language": "python",
   "name": "python3"
  },
  "language_info": {
   "codemirror_mode": {
    "name": "ipython",
    "version": 3
   },
   "file_extension": ".py",
   "mimetype": "text/x-python",
   "name": "python",
   "nbconvert_exporter": "python",
   "pygments_lexer": "ipython3",
   "version": "3.9.12"
  }
 },
 "nbformat": 4,
 "nbformat_minor": 5
}
