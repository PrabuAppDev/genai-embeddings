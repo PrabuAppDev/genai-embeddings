{
 "cells": [
  {
   "cell_type": "code",
   "execution_count": 1,
   "id": "dd2579b4",
   "metadata": {},
   "outputs": [],
   "source": [
    "# imports\n",
    "import os\n",
    "import ast  # for converting embeddings saved as strings back to arrays\n",
    "import openai  # for calling the OpenAI API\n",
    "import pandas as pd  # for storing text and embeddings data\n",
    "# import tiktoken  # for counting tokens. Uncomment if needed\n",
    "from scipy import spatial  # for calculating vector similarities for search\n",
    "\n",
    "\n",
    "# models\n",
    "EMBEDDING_MODEL = \"text-embedding-ada-002\"\n",
    "GPT_MODEL = \"gpt-3.5-turbo\""
   ]
  },
  {
   "cell_type": "code",
   "execution_count": 2,
   "id": "60d9284b",
   "metadata": {},
   "outputs": [],
   "source": [
    "# for name, value in os.environ.items():\n",
    "#     print(\"{0}: {1}\".format(name, value))\n",
    "    \n",
    "openai.api_key = os.getenv(\"OPENAI_API_TOKEN\")"
   ]
  },
  {
   "cell_type": "code",
   "execution_count": 12,
   "id": "d36e4559",
   "metadata": {},
   "outputs": [
    {
     "name": "stdout",
     "output_type": "stream",
     "text": [
      "Top Gun Maverick is an upcoming American action drama film directed by Joseph Kosinski and produced by Jerry Bruckheimer and Tom Cruise. It is a sequel to the 1986 film Top Gun and stars Tom Cruise, Miles Teller, Jennifer Connelly, Jon Hamm, Glen Powell, Lewis Pullman, Ed Harris, and Val Kilmer.\n",
      "\n",
      "The film follows the story of Pete \"Maverick\" Mitchell, a Navy aviator who is now a flight instructor at the Top Gun school. Maverick is faced with a new generation of pilots who are more technologically advanced and less inclined to take risks. He must confront his own past and deal with the loss of his friend and former wingman, Goose.\n",
      "\n",
      "The film promises to have high-flying action sequences and will feature real fighter jets. It was originally scheduled to be released in June 2020 but was delayed due to the COVID-19 pandemic. The new release date is July 2, 2021.\n"
     ]
    }
   ],
   "source": [
    "query = 'Tell me more about Top Gun Maverick?'\n",
    "\n",
    "response = openai.ChatCompletion.create(\n",
    "    messages=[\n",
    "        {'role': 'system', 'content': 'Top Gun Maverick Movie'},\n",
    "        {'role': 'user', 'content': query},\n",
    "    ],\n",
    "    model=GPT_MODEL,\n",
    "    temperature=0,\n",
    ")\n",
    "\n",
    "print(response['choices'][0]['message']['content'])"
   ]
  },
  {
   "cell_type": "code",
   "execution_count": 6,
   "id": "a39b60d5",
   "metadata": {},
   "outputs": [],
   "source": [
    "wikipedia_knowledge_on_maverick = \"\"\"Top Gun: Maverick\n",
    "\n",
    "\n",
    "Release dates\n",
    "April 28, 2022 (CinemaCon)\n",
    "May 27, 2022 (United States)\n",
    "Running time 30 minutes[2]\n",
    "Budget 170–177 million[3][1]\n",
    "Box office 1.493 billion[4][5]\n",
    "Top Gun: Maverick is a 2022 American action drama film directed by Joseph Kosinski and written by Ehren Kruger, Eric Warren Singer, and Christopher McQuarrie from stories by Peter Craig and Justin Marks. The film is a sequel to the 1986 film Top Gun. Tom Cruise reprises his starring role as the naval aviator Maverick. It was based on the characters of the original film created by Jim Cash and Jack Epps Jr. The film also stars Miles Teller, Jennifer Connelly, Jon Hamm, Glen Powell, Lewis Pullman, Ed Harris, and Val Kilmer, who reprises his role as Iceman. In the film, Maverick confronts his past while training a group of younger Top Gun graduates, including the son of his deceased best friend, for a dangerous mission.\n",
    "\n",
    "Development on a Top Gun sequel was announced in 2010 by Paramount Pictures. Cruise, along with producer Jerry Bruckheimer and director Tony Scott, were asked to return. Craig wrote a draft of the screenplay in 2012, but the project stalled when Scott died later that year.[6] The film was later dedicated to Scott's memory.[7] Production resumed in 2017 after Kosinski was hired to direct. Principal photography which involved the use of IMAX-certified 6K full-frame cameras, took place from May 2018 to April 2019 in California, Washington, and Maryland. An initial release date was scheduled for July 12, 2019, but it was delayed several times due to the complex action sequences and the COVID-19 pandemic. During the pandemic, several streaming companies attempted to purchase the streaming rights to the film from Paramount, but all offers were declined on the orders of Cruise, who insisted the film be released exclusively in theaters.[8]\n",
    "\n",
    "Top Gun: Maverick premiered at CinemaCon on April 28, 2022, and was theatrically released by Paramount Pictures in the United States on May 27, 2022. The film was acclaimed by critics, with many calling it better than the original.[9] It won Best Film from the National Board of Review and was also named one of the top ten films of 2022 by the American Film Institute. Top Gun: Maverick was nominated for six awards at the 95th Academy Awards (including Best Picture), winning Best Sound, and received numerous other accolades. The film grossed $1.493 billion worldwide, making it the second-highest-grossing film of 2022 and the highest-grossing film of Cruise's career.\n",
    "\n",
    "Plot\n",
    "More than 30 years after graduating from Top Gun,[a] United States Navy Captain Pete \"Maverick\" Mitchell is a test pilot. Despite many achievements, repeated insubordination has kept him from flag rank;[b] his friend and former Top Gun rival, Admiral Tom \"Iceman\" Kazansky, now commander of the U.S. Pacific Fleet, often protects Maverick. Rear Admiral Chester \"Hammer\" Cain plans to cancel Maverick's hypersonic \"Darkstar\" scramjet program in favor of funding drones. To save the program, Maverick unilaterally changes the target speed for that day's test from Mach 9 to the final contract specification of Mach 10. However, the prototype is destroyed by aerodynamic stresses and heat. Iceman again saves Maverick's career by assigning him to the Top Gun school at NAS North Island for his next assignment, but Cain tells Maverick that the era of crewed fighter aircraft will soon be over.\n",
    "\n",
    "The Navy has been tasked with destroying an unsanctioned uranium enrichment plant, located in an underground bunker at the end of a canyon, before it becomes operational. It is defended by surface-to-air missiles (SAMs), GPS jammers, and fifth-generation Su-57 fighters as well as older F-14 Tomcats. Maverick devises a plan employing two pairs of F/A-18E/F Super Hornets armed with laser-guided bombs, but instead of participating in the strike, he is to train an elite group of Top Gun graduates assembled by Air Boss Vice Admiral Beau \"Cyclone\" Simpson.\n",
    "\n",
    "Maverick dogfights his skeptical students and prevails in every contest, winning their respect. Lieutenants Jake \"Hangman\" Seresin and Bradley \"Rooster\" Bradshaw—son of Maverick's dead best friend and RIO Nick \"Goose\" Bradshaw—clash: Rooster dislikes Hangman's cavalier attitude, while Hangman criticizes Rooster's cautious flying. Maverick reunites with former girlfriend Penny Benjamin, to whom he reveals that he promised Rooster's dying mother that Rooster would not become a pilot. Rooster, unaware of the promise, angrily resents Maverick for dropping his Naval Academy application—impeding his military career—and blames him for his father's death. Maverick is reluctant to further interfere with Rooster's career, but the alternative is to send him on the extremely dangerous mission. He tells his doubts to Iceman, who has terminal throat cancer. Iceman advises that \"It's time to let go\" and reassures him that both the Navy and Rooster need Maverick.\n",
    "\n",
    "After Iceman dies, Cyclone removes Maverick as instructor following a training incident in which an F/A-18F is lost. Cyclone relaxes the mission parameters, so they are easier to execute but make escape much more difficult. During Cyclone's announcement, Maverick makes an unauthorized flight through the course with his preferred parameters, proving that it can be done. Cyclone reluctantly appoints Maverick as team leader.\n",
    "\n",
    "Maverick flies the lead F/A-18E, accompanied by a buddy lazing F/A-18F[c] flown by Lieutenant Natasha \"Phoenix\" Trace and WSO Lieutenant Robert \"Bob\" Floyd. Rooster leads the second strike pair, which includes Lieutenant Reuben \"Payback\" Fitch and WSO Lieutenant Mickey \"Fanboy\" Garcia. The four jets launch from an aircraft carrier, and Tomahawk cruise missiles destroy the nearby air base as they approach. The teams destroy the plant, but the SAMs open fire during their escape, as anticipated. Rooster runs out of countermeasures, and Maverick sacrifices his plane to protect him. Believing Maverick to be dead, the others are ordered back to the carrier, but Rooster returns to find that Maverick ejected and is being targeted by an Mi-24 attack helicopter. After destroying the gunship, Rooster is shot down by a SAM and ejects. The two rendezvous and steal an F-14 from the damaged air base. Maverick and Rooster destroy two intercepting Su-57s, but a third attacks as they run out of ammunition and countermeasures. Hangman arrives in time to shoot it down, and the planes return safely.\n",
    "\n",
    "Later, Rooster helps Maverick work on his P-51 Mustang. Rooster looks at a photo of their mission's success, pinned alongside a photo of his late father and a young Maverick, as Penny and Maverick fly off in the P-51.\n",
    "\n",
    "Cast\n",
    "Tom Cruise as Captain Pete \"Maverick\" Mitchell: A test pilot and flight instructor, training a group of Top Gun graduates for a specialized mission[12]\n",
    "Miles Teller as Lieutenant Bradley \"Rooster\" Bradshaw: An F/A-18E pilot in the mission training group. He is the son of Maverick's late RIO and best friend, LTJG Nick \"Goose\", and Carole Bradshaw. Rooster was previously portrayed by twins Aaron and Adam Weis in Top Gun in uncredited roles.\n",
    "Jennifer Connelly as Penelope \"Penny\" Benjamin: Maverick's rekindled love interest, who is a single mother, a bar owner, and the daughter of an admiral[d]\n",
    "Jon Hamm as Vice Admiral Beau \"Cyclone\" Simpson: The commander of Naval Air Forces\n",
    "Glen Powell as LT Jake \"Hangman\" Seresin: An F/A-18E pilot and mission candidate\n",
    "Lewis Pullman as LT Robert \"Bob\" Floyd: Phoenix's F/A-18F WSO and mission candidate[e]\n",
    "Ed Harris as Rear Admiral Chester \"Hammer\" Cain: Maverick's superior and head of the Darkstar program[f][13]\n",
    "Val Kilmer as Admiral Tom \"Iceman\" Kazansky: The commander of U.S. Pacific Fleet, close friend and former rival of Maverick\n",
    "Monica Barbaro as LT Natasha \"Phoenix\" Trace: An F/A-18F pilot and mission candidate\n",
    "Charles Parnell as RADM Solomon \"Warlock\" Bates: The commander of the Naval Aviation Warfighting Development Center and an acquaintance of Maverick's\n",
    "Jay Ellis as LT Reuben \"Payback\" Fitch: An F/A-18F pilot and mission candidate\n",
    "Danny Ramirez as LT Mickey \"Fanboy\" Garcia: Payback's F/A-18F WSO and mission candidate\n",
    "Greg Tarzan Davis as LT Javy \"Coyote\" Machado: An F/A-18E pilot and mission candidate\n",
    "Bashir Salahuddin as Chief Warrant Officer Four Bernie \"Hondo\" Coleman: A friend of Maverick's\n",
    "Manny Jacinto as LT Billy \"Fritz\" Avalone: An F/A-18E pilot and mission candidate\n",
    "Raymond Lee as LT Logan \"Yale\" Lee: An F/A-18F pilot and mission candidate\n",
    "Jake Picking as LT Brigham \"Harvard\" Lennox: Yale's F/A-18F WSO and mission candidate\n",
    "Jack Schumacher as LT Neil \"Omaha\" Vikander: An F/A-18F pilot and mission candidate\n",
    "Kara Wang as LT Callie \"Halo\" Bassett: Omaha's F/A-18F WSO and mission candidate\n",
    "Lyliana Wray as Amelia Benjamin: Penny's daughter\n",
    "Jean Louisa Kelly as Sarah Kazansky: Iceman's wife\n",
    "James Handy as Jimmy: An old bartender at Penny's bar\n",
    "Chido Nwokocha as Mission Controller\n",
    "Chelsea Harris as Admiral's Aide\n",
    "Anthony Edwards, Meg Ryan, as well as Aaron and Adam Weis appear as the Bradshaw family in archive footage from Top Gun, along with Kelly McGillis as Charlotte \"Charlie\" Blackwood.\n",
    "Theatrical\n",
    "Top Gun: Maverick was released theatrically by Paramount Pictures in the United States on May 27, 2022, with advance screenings starting the day before.[133] It was originally scheduled to be released on July 12, 2019, but was delayed to June 26, 2020, in order to shoot several complex action sequences.[8] By March 2020, Paramount moved the film up two days early on June 24, 2020,[134] and it was then moved to December 23 due to the ongoing COVID-19 pandemic declared by the World Health Organization.[135][136] On July 23, 2020, the film was delayed again to July 2, 2021, due in part to scheduling conflicts with Cruise, as well as the recent delays of Mulan and Tenet due to the rise of COVID-19 cases,[137] and was further delayed to November 19, 2021,[138] before finalizing the May 2022 release date.[133]\n",
    "\n",
    "The film had its world premiere at CinemaCon on April 28, 2022[139] which was followed by a global premiere hosted at the San Diego Civic Theatre in San Diego, on May 4, which was also streamed live through YouTube.[140][141] It also screened at the Cannes Film Festival on May 18 in an Official Selection Screening, where it received a five-minute standing ovation from the audience. The Cannes premiere included a tribute to Cruise and his career.[142][143] The following day it had its UK premiere at the Royal Film Performance at London's Odeon Luxe Leicester Square in aid of the Film & TV Charity. The film was the last Royal Film Performance of Queen Elizabeth II's reign as she died later that same year.[144] ScreenX theaters[145] and AMC Theatres[146][147] held Early Access Event screenings at limited locations across the United States on May 24, 2022.\n",
    "\n",
    "Reception\n",
    "Box office\n",
    "Top Gun: Maverick grossed $718.7 million in the United States and Canada, and $774.8 million in other territories, for a worldwide total of $1.493 billion.[4][5] The film became the highest-grossing film of Cruise's career on June 17, 2022, after crossing $800 million worldwide.[158] On June 26, the film crossed $1 billion, becoming the second film to do so during the pandemic era.[159][160] It is the second-highest-grossing film released in 2022 (behind Avatar: The Way of Water).[161] Sonny Bunch, writing for The Washington Post, argued that the film's financial success along with that of Spider-Man: No Way Home demonstrates that securing a theatrical release in China is not mandatory for a Hollywood film to be profitable.[162] Deadline Hollywood calculated the film's net profit as $391.1 million, accounting for production budgets, marketing, talent participations, and other costs; box office grosses and home media revenues placed it second on their list of 2022's \"Most Valuable Blockbusters\".[1]\n",
    "\n",
    "In the United States and Canada, Top Gun: Maverick was the highest-grossing film released in 2022.[4][163] It grossed $126.7 million in its opening three-day weekend and $160.5 million over the four-day Memorial Day weekend, finishing first at the box office and nearly doubling Cruise's previous career-best. The film also had the largest Memorial Day four-day opening weekend.[164] In its second weekend, it grossed $90 million; the 29% drop was the smallest-ever for a film that had an opening of over $100 million, surpassing Shrek 2 (33% drop in its second weekend from a $108 million debut in May 2004).[165] The film was dethroned by newcomer Jurassic World Dominion in its third weekend, though still grossed $51.9 million.[166] The film remained in the top five at the box office throughout its first ten weeks of release.[167] The film finally dropped out of the top five at the box office in its 11th weekend, finishing sixth with $7 million.[168] In its 12th weekend the film was re-released in over 400 theaters and made $7.1 million, returning to second place.[169][170] In its 15th weekend, the film made $6 million (and a total of $7.9 million over the four-day Labor Day frame), returning to the top of the box office.[171] Box office analysts attributed the film's longevity at the box office to positive critical reviews and word of mouth.[172][173]\n",
    "\n",
    "Outside the US and Canada, the film grossed $124 million from 62 markets in its opening weekend. It was Cruise's biggest opening ever in 32 of those markets and Paramount's best opening for a live-action film in 18 of them. The largest markets in its opening weekend were the United Kingdom ($19.4 million), France ($11.7 million), Australia ($10.7 million), Japan ($9.7 million), and Germany ($6.5 million). The film had the best debut of Cruise's career in the Middle East ($6.3 million), Brazil ($5.3 million), the Netherlands ($2.4 million), Sweden ($2.2 million), Belgium ($1.7 million), New Zealand ($1.4 million), Poland ($1.2 million), Argentina ($1.2 million), Finland ($1.1 million), and Portugal ($770,000). IMAX accounted for $10.4 million of its opening weekend outside the US and Canada.[174] The following weekend, it made $85.8 million, a mere 16% drop that included $18.5 million from IMAX screenings.[175] As of September 18, 2022, the top markets are the United Kingdom ($102 million), Japan ($93.6 million), South Korea ($67.2 million), Australia ($64.3 million), and France ($58.2 million).[176]\n",
    "\n",
    "Critical response\n",
    "Unbalanced scales.svg\n",
    "This section may lend undue weight to certain ideas, incidents, or controversies. The specific problem is: The section is rather lengthy (WP:PROPORTION) and it's dubious if it's balanced. Less would likely be more. Please help improve it by rewriting it in a balanced fashion that contextualizes different points of view. (October 2022) (Learn how and when to remove this template message)\n",
    "\n",
    "Tom Cruise received critical acclaim for his performance in the film, with some reviewers saying it is one of the best of his career.[9]\n",
    "On the review aggregator website Rotten Tomatoes, 96% of 469 critics' reviews are positive, with an average rating of 8.20/10. The website's consensus reads: \"Top Gun: Maverick pulls off a feat even trickier than a 4G inverted dive, delivering a long-belated sequel that surpasses its predecessor in wildly entertaining style.\"[177] Metacritic, which uses a weighted average, assigned the film a score of 78 out of 100, based on 63 critics, indicating \"generally favorable reviews\".[178] Audiences polled by CinemaScore gave the film a rare \"A+\" grade on an A+ to F scale, while PostTrak reported 96% of audience members gave it a positive score, with 84% saying they would definitely recommend it.[164]\n",
    "\"\"\""
   ]
  },
  {
   "cell_type": "code",
   "execution_count": 7,
   "id": "58e7aaee",
   "metadata": {},
   "outputs": [
    {
     "name": "stdout",
     "output_type": "stream",
     "text": [
      "Top Gun: Maverick premiered at CinemaCon on April 28, 2022.\n"
     ]
    }
   ],
   "source": [
    "query = f\"\"\"Use the below article on the Top Gun: Maverick to answer the subsequent question. If the answer cannot be found, write \"I don't know.\"\n",
    "\n",
    "Article:\n",
    "\\\"\\\"\\\"\n",
    "{wikipedia_knowledge_on_maverick}\n",
    "\\\"\\\"\\\"\n",
    "\n",
    "Question: Where did the movie Top Gun: Maverick premiere?\"\"\"\n",
    "\n",
    "response = openai.ChatCompletion.create(\n",
    "    messages=[\n",
    "        {'role': 'system', 'content': 'Top Gun Maverick movie'},\n",
    "        {'role': 'user', 'content': query},\n",
    "    ],\n",
    "    model=GPT_MODEL,\n",
    "    temperature=0,\n",
    ")\n",
    "\n",
    "print(response['choices'][0]['message']['content'])"
   ]
  }
 ],
 "metadata": {
  "kernelspec": {
   "display_name": "Python 3",
   "language": "python",
   "name": "python3"
  },
  "language_info": {
   "codemirror_mode": {
    "name": "ipython",
    "version": 3
   },
   "file_extension": ".py",
   "mimetype": "text/x-python",
   "name": "python",
   "nbconvert_exporter": "python",
   "pygments_lexer": "ipython3",
   "version": "3.9.12"
  }
 },
 "nbformat": 4,
 "nbformat_minor": 5
}
